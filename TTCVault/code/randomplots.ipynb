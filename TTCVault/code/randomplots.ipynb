{
 "cells": [
  {
   "cell_type": "code",
   "execution_count": 2,
   "metadata": {},
   "outputs": [
    {
     "data": {
      "text/plain": [
       "{'theme': '#f6f4e8',\n",
       " 'entry': '#e7e3d8',\n",
       " 'primary': '#40776b',\n",
       " 'secondary': '#6c6c6c',\n",
       " 'tertiary': '#d6d6d6',\n",
       " 'content': '#1f1f1f',\n",
       " 'hljs-bg': '#1c1d21',\n",
       " 'code-bg': '#f6f4e8',\n",
       " 'border': '#3e1452',\n",
       " 'border-secondary': '#40776b'}"
      ]
     },
     "execution_count": 2,
     "metadata": {},
     "output_type": "execute_result"
    }
   ],
   "source": [
    "def rgb_to_hex(rgb):\n",
    "    \"\"\"Convert RGB tuple to Hex string.\"\"\"\n",
    "    return '#{:02x}{:02x}{:02x}'.format(*rgb)\n",
    "\n",
    "# Original RGB colors dictionary\n",
    "colors_rgb = {\n",
    "    \"theme\": (246, 244, 232),\n",
    "    \"entry\": (231, 227, 216),\n",
    "    \"primary\": (64, 119, 107),\n",
    "    \"secondary\": (108, 108, 108),\n",
    "    \"tertiary\": (214, 214, 214),\n",
    "    \"content\": (31, 31, 31),\n",
    "    \"hljs-bg\": (28, 29, 33),\n",
    "    \"code-bg\": (246, 244, 232),\n",
    "    \"border\": (62, 20, 82),\n",
    "    \"border-secondary\": (64, 119, 107),\n",
    "}\n",
    "\n",
    "# Converting to Hex\n",
    "colors_hex = {k: rgb_to_hex(v) for k, v in colors_rgb.items()}\n",
    "colors_hex"
   ]
  },
  {
   "cell_type": "code",
   "execution_count": 3,
   "metadata": {},
   "outputs": [
    {
     "name": "stdout",
     "output_type": "stream",
     "text": [
      "[    2     0     0     2     1     5     9    12    14    18    29    39\n",
      "    66   101   153   166   236   325   453   575   717  1072  1288  1658\n",
      "  2066  2620  3227  4010  5028  5821  6964  8531  9916 11479 13472 15296\n",
      " 17233 19376 21904 23677 26381 28033 30427 32291 33724 35585 36590 37568\n",
      " 38257 38149 37879 37866 37083 35592 34337 32762 30662 28741 26424 24763\n",
      " 22080 19763 17571 15960 13752 11807 10397  8935  7506  6177  5121  4274\n",
      "  3522  2738  2154  1804  1380  1140   837   648   447   352   267   198\n",
      "   131   109    88    52    40    22    19    11    10     5     4     1\n",
      "     0     1     1     1] [-4.75868557 -4.66278861 -4.56689165 -4.47099469 -4.37509773 -4.27920077\n",
      " -4.18330381 -4.08740685 -3.99150989 -3.89561294 -3.79971598 -3.70381902\n",
      " -3.60792206 -3.5120251  -3.41612814 -3.32023118 -3.22433422 -3.12843726\n",
      " -3.0325403  -2.93664334 -2.84074638 -2.74484942 -2.64895246 -2.55305551\n",
      " -2.45715855 -2.36126159 -2.26536463 -2.16946767 -2.07357071 -1.97767375\n",
      " -1.88177679 -1.78587983 -1.68998287 -1.59408591 -1.49818895 -1.40229199\n",
      " -1.30639503 -1.21049808 -1.11460112 -1.01870416 -0.9228072  -0.82691024\n",
      " -0.73101328 -0.63511632 -0.53921936 -0.4433224  -0.34742544 -0.25152848\n",
      " -0.15563152 -0.05973456  0.0361624   0.13205935  0.22795631  0.32385327\n",
      "  0.41975023  0.51564719  0.61154415  0.70744111  0.80333807  0.89923503\n",
      "  0.99513199  1.09102895  1.18692591  1.28282287  1.37871983  1.47461678\n",
      "  1.57051374  1.6664107   1.76230766  1.85820462  1.95410158  2.04999854\n",
      "  2.1458955   2.24179246  2.33768942  2.43358638  2.52948334  2.6253803\n",
      "  2.72127726  2.81717421  2.91307117  3.00896813  3.10486509  3.20076205\n",
      "  3.29665901  3.39255597  3.48845293  3.58434989  3.68024685  3.77614381\n",
      "  3.87204077  3.96793773  4.06383469  4.15973164  4.2556286   4.35152556\n",
      "  4.44742252  4.54331948  4.63921644  4.7351134   4.83101036]\n",
      "[    2     2     0     4     5     6     6     7    17    31    44    74\n",
      "    98    97   164   255   358   444   587   747  1063  1264  1693  2049\n",
      "  2663  3312  4089  4922  6001  7267  8265  9989 11632 13431 15447 17490\n",
      " 19614 21717 24164 26491 28584 30428 32565 34411 35565 36685 37791 37895\n",
      " 38078 38520 37928 37040 35576 34122 32651 30870 28540 26511 24288 22076\n",
      " 19636 17610 15555 13719 11851 10091  8585  7190  6076  4865  4124  3325\n",
      "  2636  2170  1753  1260   998   720   598   416   314   284   179   106\n",
      "    82    72    44    33    22    21     8     8     3     3     3     1\n",
      "     1     1     1     1] [-4.68116212 -4.58470077 -4.48823943 -4.39177809 -4.29531675 -4.1988554\n",
      " -4.10239406 -4.00593272 -3.90947137 -3.81301003 -3.71654869 -3.62008735\n",
      " -3.523626   -3.42716466 -3.33070332 -3.23424197 -3.13778063 -3.04131929\n",
      " -2.94485795 -2.8483966  -2.75193526 -2.65547392 -2.55901258 -2.46255123\n",
      " -2.36608989 -2.26962855 -2.1731672  -2.07670586 -1.98024452 -1.88378318\n",
      " -1.78732183 -1.69086049 -1.59439915 -1.4979378  -1.40147646 -1.30501512\n",
      " -1.20855378 -1.11209243 -1.01563109 -0.91916975 -0.8227084  -0.72624706\n",
      " -0.62978572 -0.53332438 -0.43686303 -0.34040169 -0.24394035 -0.147479\n",
      " -0.05101766  0.04544368  0.14190502  0.23836637  0.33482771  0.43128905\n",
      "  0.52775039  0.62421174  0.72067308  0.81713442  0.91359577  1.01005711\n",
      "  1.10651845  1.20297979  1.29944114  1.39590248  1.49236382  1.58882517\n",
      "  1.68528651  1.78174785  1.87820919  1.97467054  2.07113188  2.16759322\n",
      "  2.26405457  2.36051591  2.45697725  2.55343859  2.64989994  2.74636128\n",
      "  2.84282262  2.93928397  3.03574531  3.13220665  3.22866799  3.32512934\n",
      "  3.42159068  3.51805202  3.61451336  3.71097471  3.80743605  3.90389739\n",
      "  4.00035874  4.09682008  4.19328142  4.28974276  4.38620411  4.48266545\n",
      "  4.57912679  4.67558814  4.77204948  4.86851082  4.96497216]\n"
     ]
    },
    {
     "data": {
      "text/plain": [
       "Ellipsis"
      ]
     },
     "execution_count": 3,
     "metadata": {},
     "output_type": "execute_result"
    },
    {
     "data": {
      "image/png": "[encoded data removed]",
      "text/plain": [
       "<Figure size 200x150 with 1 Axes>"
      ]
     },
     "metadata": {},
     "output_type": "display_data"
    },
    {
     "data": {
      "image/png": "[encoded data removed]",
      "text/plain": [
       "<Figure size 200x150 with 1 Axes>"
      ]
     },
     "metadata": {},
     "output_type": "display_data"
    },
    {
     "data": {
      "image/png": "[encoded data removed]",
      "text/plain": [
       "<Figure size 200x150 with 1 Axes>"
      ]
     },
     "metadata": {},
     "output_type": "display_data"
    }
   ],
   "source": [
    "n=1000000\n",
    "c=1\n",
    "w=4\n",
    "\n",
    "for T in [None, 0.1, 10]:\n",
    "    # plot histograms of the data\n",
    "    fig, ax = plt.subplots(1, 1, figsize=(2, 1.5))\n",
    "\n",
    "\n",
    "    r = np.random.normal(0, 1, n)  # Normal distribution\n",
    "    if T is not None:\n",
    "        # temperature dependent softmax:\n",
    "        # first, convert into probabilities using hist\n",
    "        hist, bin_edges = np.histogram(r, bins=100)\n",
    "        print(hist, bin_edges)\n",
    "    else:\n",
    "        continue\n",
    "\n",
    "\n",
    "    ax.hist(r, bins=100, density=True, color=colors_hex['border'])\n",
    "    ax.set_xticks([])\n",
    "    ax.set_yticks([])\n",
    "    ax.set_xlim([-w,w])\n",
    "    ax.set_title('', fontsize=16)\n",
    "\n",
    "    plt.tight_layout()\n",
    "    fig.savefig(f'normal{T}.png', dpi=300)\n",
    "..."
   ]
  },
  {
   "cell_type": "code",
   "execution_count": 5,
   "metadata": {},
   "outputs": [
    {
     "data": {
      "image/png": "[encoded data removed]",
      "text/plain": [
       "<Figure size 600x180 with 3 Axes>"
      ]
     },
     "metadata": {},
     "output_type": "display_data"
    },
    {
     "data": {
      "image/png": "[encoded data removed]",
      "text/plain": [
       "<Figure size 200x150 with 1 Axes>"
      ]
     },
     "metadata": {},
     "output_type": "display_data"
    },
    {
     "data": {
      "image/png": "[encoded data removed]",
      "text/plain": [
       "<Figure size 200x150 with 1 Axes>"
      ]
     },
     "metadata": {},
     "output_type": "display_data"
    },
    {
     "data": {
      "image/png": "[encoded data removed]",
      "text/plain": [
       "<Figure size 200x150 with 1 Axes>"
      ]
     },
     "metadata": {},
     "output_type": "display_data"
    }
   ],
   "source": [
    "import numpy as np\n",
    "import matplotlib.pyplot as plt\n",
    "from scipy.special import softmax\n",
    "\n",
    "def temperature_softmax(hist, T):\n",
    "    \"\"\"Apply softmax with temperature T to histogram counts.\"\"\"\n",
    "    return softmax(hist / T)\n",
    "\n",
    "# Colors dictionary (assuming colors_hex is already defined)\n",
    "colors_hex = {\n",
    "    # Add your colors_hex dictionary here\n",
    "}\n",
    "\n",
    "n = 1000000  # Number of data points\n",
    "w = 3     # Window for x-axis limits\n",
    "\n",
    "colors_hex = {k: rgb_to_hex(v) for k, v in colors_rgb.items()}\n",
    "fig, axs = plt.subplots(1, 3, figsize=(2*3, 1.8))\n",
    "for ax, T in zip(axs.flatten(), [0.1, None, 2]):\n",
    "    fig, ax = plt.subplots(1, 1, figsize=(2, 1.5))\n",
    "\n",
    "    r = np.random.normal(0, 1, n)  # Normal distribution\n",
    "    if T is not None:\n",
    "        # Temperature dependent softmax\n",
    "        hist, bin_edges = np.histogram(r, bins=100, density=True)\n",
    "        probabilities = temperature_softmax(hist, T)\n",
    "\n",
    "        # Plot the transformed histogram\n",
    "        ax.bar((bin_edges[:-1] + bin_edges[1:]) / 2, probabilities, width=(bin_edges[1] - bin_edges[0]), color=colors_hex['border'])\n",
    "    else:\n",
    "        # Plot the original histogram\n",
    "        ax.hist(r, bins=100, density=True, color=colors_hex['border'])\n",
    "\n",
    "    ax.set_xticks([])\n",
    "    ax.set_yticks([])\n",
    "    ax.set_ylim([0, 0.5])\n",
    "    ax.set_xlim([-w, w])\n",
    "    ax.set_title(f'T = {T}' if T is not None else 'Original', fontsize=16)\n",
    "\n",
    "    plt.tight_layout()\n",
    "    fig.savefig(f'normal{T}.png', dpi=300)\n",
    "# fig.savefig(f'normal.png', dpi=300)\n"
   ]
  },
  {
   "cell_type": "code",
   "execution_count": null,
   "metadata": {},
   "outputs": [],
   "source": []
  }
 ],
 "metadata": {
  "kernelspec": {
   "display_name": "sym",
   "language": "python",
   "name": "python3"
  },
  "language_info": {
   "codemirror_mode": {
    "name": "ipython",
    "version": 3
   },
   "file_extension": ".py",
   "mimetype": "text/x-python",
   "name": "python",
   "nbconvert_exporter": "python",
   "pygments_lexer": "ipython3",
   "version": "3.11.4"
  }
 },
 "nbformat": 4,
 "nbformat_minor": 2
}
